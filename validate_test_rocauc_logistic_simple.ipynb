{
 "cells": [
  {
   "cell_type": "markdown",
   "metadata": {},
   "source": [
    "# Validate and test ROC/AUC scoring\n",
    "Based on built-in scikit-learn dataset (breast cancer classification)\n",
    "\n",
    "\\>> Simplified version which only considers one choice for hyperparameter"
   ]
  },
  {
   "cell_type": "code",
   "execution_count": 61,
   "metadata": {},
   "outputs": [],
   "source": [
    "from __future__ import division\n",
    "import numpy as np\n",
    "from sklearn.metrics import roc_auc_score, make_scorer, roc_curve, auc\n",
    "from sklearn.datasets import load_breast_cancer\n",
    "from sklearn.linear_model import LogisticRegression\n",
    "from sklearn.model_selection import GridSearchCV, StratifiedKFold\n",
    "import matplotlib.pyplot as plt"
   ]
  },
  {
   "cell_type": "code",
   "execution_count": 62,
   "metadata": {},
   "outputs": [
    {
     "data": {
      "text/plain": [
       "'1.14.5'"
      ]
     },
     "execution_count": 62,
     "metadata": {},
     "output_type": "execute_result"
    }
   ],
   "source": [
    "np.__version__"
   ]
  },
  {
   "cell_type": "markdown",
   "metadata": {},
   "source": [
    "### Two different ways of scoring: `roc_auc` and `make_scorer(roc_auc_score)`\n",
    "\n",
    "Can demonstrate different results via different methods\n",
    "\n",
    "This is done below by showing different scores for C=10. But in fact when searching over C=[9.9, 10, 10.1], it turns out that different parameters are returned by the two different methods."
   ]
  },
  {
   "cell_type": "code",
   "execution_count": 63,
   "metadata": {},
   "outputs": [],
   "source": [
    "X, y = load_breast_cancer(return_X_y=True)"
   ]
  },
  {
   "cell_type": "code",
   "execution_count": 64,
   "metadata": {},
   "outputs": [
    {
     "data": {
      "text/plain": [
       "(numpy.ndarray, numpy.ndarray)"
      ]
     },
     "execution_count": 64,
     "metadata": {},
     "output_type": "execute_result"
    }
   ],
   "source": [
    "X.__class__, y.__class__"
   ]
  },
  {
   "cell_type": "markdown",
   "metadata": {},
   "source": [
    "Use built in `roc_auc` option:"
   ]
  },
  {
   "cell_type": "code",
   "execution_count": 65,
   "metadata": {},
   "outputs": [
    {
     "name": "stdout",
     "output_type": "stream",
     "text": [
      "Best param: {'C': 10}\n",
      "Best score: 0.992004586185572\n"
     ]
    }
   ],
   "source": [
    "gs1 = GridSearchCV(LogisticRegression(random_state=np.random.RandomState(0)),\n",
    "                   {'C': [10]},\n",
    "                   cv=StratifiedKFold(3, random_state=np.random.RandomState(1), shuffle=True),\n",
    "                   scoring='roc_auc')\n",
    "fit1 = gs1.fit(X, y)\n",
    "\n",
    "print('Best param: ' + str(fit1.best_params_))\n",
    "print('Best score: ' + str(fit1.best_score_))"
   ]
  },
  {
   "cell_type": "markdown",
   "metadata": {},
   "source": [
    "Use `make_scorer(roc_auc_score)`:"
   ]
  },
  {
   "cell_type": "code",
   "execution_count": 66,
   "metadata": {},
   "outputs": [
    {
     "name": "stdout",
     "output_type": "stream",
     "text": [
      "Best param: {'C': 10}\n",
      "Best score: 0.9563072740173076\n"
     ]
    }
   ],
   "source": [
    "gs2 = GridSearchCV(LogisticRegression(random_state=np.random.RandomState(0)),\n",
    "                   {'C': [10]},\n",
    "                   cv=StratifiedKFold(3, random_state=np.random.RandomState(1), shuffle=True),\n",
    "                   scoring=make_scorer(roc_auc_score))\n",
    "fit2 = gs2.fit(X, y)\n",
    "\n",
    "print('Best param: ' + str(fit2.best_params_))\n",
    "print('Best score: ' + str(fit2.best_score_))"
   ]
  },
  {
   "cell_type": "markdown",
   "metadata": {},
   "source": [
    "Check that it is not a random state issue, i.e. that we can recreate an above score exactly:"
   ]
  },
  {
   "cell_type": "code",
   "execution_count": 67,
   "metadata": {},
   "outputs": [
    {
     "name": "stdout",
     "output_type": "stream",
     "text": [
      "Best param: {'C': 10}\n",
      "Best score: 0.992004586185572\n"
     ]
    }
   ],
   "source": [
    "gs3 = GridSearchCV(LogisticRegression(random_state=np.random.RandomState(0)),\n",
    "                   {'C': [10]},\n",
    "                   cv=StratifiedKFold(3, random_state=np.random.RandomState(1), shuffle=True),\n",
    "                   scoring='roc_auc')\n",
    "fit3 = gs3.fit(X, y)\n",
    "\n",
    "print('Best param: ' + str(fit3.best_params_))\n",
    "print('Best score: ' + str(fit3.best_score_))"
   ]
  },
  {
   "cell_type": "markdown",
   "metadata": {},
   "source": [
    "### Next work it through manually\n",
    "Extract the CV folds and fit logistic regressions manually"
   ]
  },
  {
   "cell_type": "code",
   "execution_count": 68,
   "metadata": {},
   "outputs": [],
   "source": [
    "logregA = LogisticRegression(random_state=np.random.RandomState(0), C=10)"
   ]
  },
  {
   "cell_type": "code",
   "execution_count": 69,
   "metadata": {},
   "outputs": [],
   "source": [
    "cv_man = StratifiedKFold(3, random_state=np.random.RandomState(1), shuffle=True)\n",
    "cv_man_split = cv_man.split(X, y)"
   ]
  },
  {
   "cell_type": "code",
   "execution_count": 70,
   "metadata": {},
   "outputs": [],
   "source": [
    "results_imported_score_preds = []\n",
    "results_imported_score_predprobs = []\n",
    "results_imported_score_predprobs_inverse = []"
   ]
  },
  {
   "cell_type": "markdown",
   "metadata": {},
   "source": [
    "#### This bit repeats per fold:"
   ]
  },
  {
   "cell_type": "code",
   "execution_count": 71,
   "metadata": {},
   "outputs": [
    {
     "data": {
      "text/plain": [
       "(379, 190)"
      ]
     },
     "execution_count": 71,
     "metadata": {},
     "output_type": "execute_result"
    }
   ],
   "source": [
    "indices1 = cv_man_split.next()\n",
    "len(indices1[0]), len(indices1[1])"
   ]
  },
  {
   "cell_type": "code",
   "execution_count": 72,
   "metadata": {},
   "outputs": [],
   "source": [
    "## Fit to train split and predict on test split\n",
    "fit_man1 = logregA.fit(X=X[indices1[0], :], y=y[indices1[0]])\n",
    "pred_man1 = fit_man1.predict(X[indices1[1], :])\n",
    "pred_prob_man1 = fit_man1.predict_proba(X[indices1[1], :])\n",
    "true_man1 = y[indices1[1]]"
   ]
  },
  {
   "cell_type": "code",
   "execution_count": 73,
   "metadata": {},
   "outputs": [],
   "source": [
    "results_imported_score_preds.append(roc_auc_score(true_man1, pred_man1))\n",
    "results_imported_score_predprobs.append(roc_auc_score(true_man1, pred_prob_man1[:, 1]))\n",
    "results_imported_score_predprobs_inverse.append(roc_auc_score(1 - true_man1, pred_prob_man1[:, 0]))"
   ]
  },
  {
   "cell_type": "code",
   "execution_count": 74,
   "metadata": {},
   "outputs": [
    {
     "name": "stdout",
     "output_type": "stream",
     "text": [
      "[0.9466209018818794]\n",
      "[0.9872174221801397]\n"
     ]
    }
   ],
   "source": [
    "print(results_imported_score_preds)\n",
    "print(results_imported_score_predprobs)"
   ]
  },
  {
   "cell_type": "markdown",
   "metadata": {},
   "source": [
    "Again:"
   ]
  },
  {
   "cell_type": "code",
   "execution_count": 75,
   "metadata": {},
   "outputs": [],
   "source": [
    "indices2 = cv_man_split.next()\n",
    "fit_man2 = logregA.fit(X=X[indices2[0], :], y=y[indices2[0]])\n",
    "\n",
    "pred_man2 = fit_man2.predict(X[indices2[1], :])\n",
    "pred_prob_man2 = fit_man2.predict_proba(X[indices2[1], :])\n",
    "true_man2 = y[indices2[1]]\n",
    "\n",
    "results_imported_score_preds.append(roc_auc_score(true_man2, pred_man2))\n",
    "results_imported_score_predprobs.append(roc_auc_score(true_man2, pred_prob_man2[:, 1]))\n",
    "results_imported_score_predprobs_inverse.append(roc_auc_score(1 - true_man2, pred_prob_man2[:, 0]))"
   ]
  },
  {
   "cell_type": "markdown",
   "metadata": {},
   "source": [
    "And again:"
   ]
  },
  {
   "cell_type": "code",
   "execution_count": 76,
   "metadata": {},
   "outputs": [],
   "source": [
    "indices3 = cv_man_split.next()\n",
    "fit_man3 = logregA.fit(X=X[indices3[0], :], y=y[indices3[0]])\n",
    "\n",
    "pred_man3 = fit_man3.predict(X[indices3[1], :])\n",
    "pred_prob_man3 = fit_man3.predict_proba(X[indices3[1], :])\n",
    "true_man3 = y[indices3[1]]\n",
    "\n",
    "results_imported_score_preds.append(roc_auc_score(true_man3, pred_man3))\n",
    "results_imported_score_predprobs.append(roc_auc_score(true_man3, pred_prob_man3[:, 1]))\n",
    "results_imported_score_predprobs_inverse.append(roc_auc_score(1 - true_man3, pred_prob_man3[:, 0]))"
   ]
  },
  {
   "cell_type": "code",
   "execution_count": 77,
   "metadata": {},
   "outputs": [
    {
     "name": "stdout",
     "output_type": "stream",
     "text": [
      "[0.9466209018818794, 0.9563853710498285, 0.965966386554622]\n",
      "[0.9872174221801397, 0.9928985678778554, 0.9959183673469387]\n",
      "[0.9872174221801396, 0.9928985678778554, 0.9959183673469387]\n"
     ]
    }
   ],
   "source": [
    "print(results_imported_score_preds)\n",
    "print(results_imported_score_predprobs)\n",
    "print(results_imported_score_predprobs_inverse)"
   ]
  },
  {
   "cell_type": "code",
   "execution_count": 78,
   "metadata": {},
   "outputs": [
    {
     "name": "stdout",
     "output_type": "stream",
     "text": [
      "0.9563242198287766\n",
      "0.9563072740173076\n"
     ]
    }
   ],
   "source": [
    "print(sum(results_imported_score_preds)/len(results_imported_score_preds))\n",
    "print(fit2.best_score_)"
   ]
  },
  {
   "cell_type": "code",
   "execution_count": 79,
   "metadata": {},
   "outputs": [
    {
     "name": "stdout",
     "output_type": "stream",
     "text": [
      "0.9920114524683113\n",
      "0.992004586185572\n"
     ]
    }
   ],
   "source": [
    "print(sum(results_imported_score_predprobs)/len(results_imported_score_predprobs))\n",
    "print(fit1.best_score_)"
   ]
  },
  {
   "cell_type": "markdown",
   "metadata": {},
   "source": [
    "We are a few decimal places out - but otherwise presumably match?\n",
    "### Make some ROC plots"
   ]
  },
  {
   "cell_type": "code",
   "execution_count": 80,
   "metadata": {},
   "outputs": [],
   "source": [
    "true_man = np.append(np.append(true_man1, true_man2), true_man3)\n",
    "pred_man = np.append(np.append(pred_man1, pred_man2), pred_man3)\n",
    "pred_prob_man = np.append(np.append(pred_prob_man1, pred_prob_man2, axis=0), pred_prob_man3, axis=0)"
   ]
  },
  {
   "cell_type": "markdown",
   "metadata": {},
   "source": [
    "First using the probabilities:"
   ]
  },
  {
   "cell_type": "code",
   "execution_count": 81,
   "metadata": {},
   "outputs": [],
   "source": [
    "fpr1, tpr1, threshold1 = roc_curve(true_man, pred_prob_man[:, 1])\n",
    "auc1 = auc(fpr1, tpr1)"
   ]
  },
  {
   "cell_type": "code",
   "execution_count": 82,
   "metadata": {},
   "outputs": [
    {
     "data": {
      "image/png": "[encoded data removed]",
      "text/plain": [
       "<Figure size 432x288 with 1 Axes>"
      ]
     },
     "metadata": {},
     "output_type": "display_data"
    }
   ],
   "source": [
    "plt.title('ROC from predict_proba')\n",
    "plt.plot(fpr1, tpr1, 'b', label = 'AUC = %0.9f' % auc1)\n",
    "plt.legend(loc = 'lower right')\n",
    "plt.plot([0, 1], [0, 1],'r--')\n",
    "plt.xlim([0, 1])\n",
    "plt.ylim([0, 1])\n",
    "plt.ylabel('True Positive Rate')\n",
    "plt.xlabel('False Positive Rate')\n",
    "plt.show()"
   ]
  },
  {
   "cell_type": "markdown",
   "metadata": {},
   "source": [
    "Now using the predictions directly:"
   ]
  },
  {
   "cell_type": "code",
   "execution_count": 83,
   "metadata": {},
   "outputs": [],
   "source": [
    "fpr2, tpr2, threshold2 = roc_curve(true_man, pred_man)\n",
    "auc2 = auc(fpr2, tpr2)"
   ]
  },
  {
   "cell_type": "code",
   "execution_count": 84,
   "metadata": {},
   "outputs": [
    {
     "data": {
      "image/png": "[encoded data removed]",
      "text/plain": [
       "<Figure size 432x288 with 1 Axes>"
      ]
     },
     "metadata": {},
     "output_type": "display_data"
    }
   ],
   "source": [
    "plt.title('ROC from predictions')\n",
    "plt.plot(fpr2, tpr2, 'b', label = 'AUC = %0.9f' % auc2)\n",
    "plt.legend(loc = 'lower right')\n",
    "plt.plot([0, 1], [0, 1],'r--')\n",
    "plt.xlim([0, 1])\n",
    "plt.ylim([0, 1])\n",
    "plt.ylabel('True Positive Rate')\n",
    "plt.xlabel('False Positive Rate')\n",
    "plt.show()"
   ]
  },
  {
   "cell_type": "markdown",
   "metadata": {},
   "source": [
    "### Conclusion\n",
    "\n",
    "Do not use `make_scorer(roc_auc_score)` as this will default to incorrectly use the predicted classes.\n",
    "\n",
    "Actually it turns out that the `make_scorer()` function can be employed in this situation by enabling the `needs_threshold` argument:"
   ]
  },
  {
   "cell_type": "code",
   "execution_count": 85,
   "metadata": {},
   "outputs": [
    {
     "name": "stdout",
     "output_type": "stream",
     "text": [
      "Best param: {'C': 10}\n",
      "Best score: 0.992004586185572\n"
     ]
    }
   ],
   "source": [
    "gs4 = GridSearchCV(LogisticRegression(random_state=np.random.RandomState(0)),\n",
    "                   {'C': [10]},\n",
    "                   cv=StratifiedKFold(3, random_state=np.random.RandomState(1), shuffle=True),\n",
    "                   scoring=make_scorer(roc_auc_score, needs_threshold=True))\n",
    "fit4 = gs4.fit(X, y)\n",
    "\n",
    "print('Best param: ' + str(fit4.best_params_))\n",
    "print('Best score: ' + str(fit4.best_score_))"
   ]
  }
 ],
 "metadata": {
  "kernelspec": {
   "display_name": "Python 2",
   "language": "python",
   "name": "python2"
  },
  "language_info": {
   "codemirror_mode": {
    "name": "ipython",
    "version": 2
   },
   "file_extension": ".py",
   "mimetype": "text/x-python",
   "name": "python",
   "nbconvert_exporter": "python",
   "pygments_lexer": "ipython2",
   "version": "2.7.15"
  }
 },
 "nbformat": 4,
 "nbformat_minor": 2
}
