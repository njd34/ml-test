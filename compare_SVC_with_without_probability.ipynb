{
 "cells": [
  {
   "cell_type": "markdown",
   "metadata": {},
   "source": [
    "# Compare SVC gridsearch with and without probability parameter\n",
    "Based on built-in scikit-learn dataset (breast cancer classification)"
   ]
  },
  {
   "cell_type": "code",
   "execution_count": 92,
   "metadata": {},
   "outputs": [],
   "source": [
    "from __future__ import division\n",
    "import numpy as np\n",
    "from sklearn.datasets import load_breast_cancer\n",
    "from sklearn.svm import SVC\n",
    "from sklearn.model_selection import GridSearchCV, StratifiedKFold, train_test_split\n",
    "from sklearn.metrics import make_scorer, roc_auc_score"
   ]
  },
  {
   "cell_type": "code",
   "execution_count": 93,
   "metadata": {},
   "outputs": [
    {
     "data": {
      "text/plain": [
       "'1.14.5'"
      ]
     },
     "execution_count": 93,
     "metadata": {},
     "output_type": "execute_result"
    }
   ],
   "source": [
    "np.__version__"
   ]
  },
  {
   "cell_type": "markdown",
   "metadata": {},
   "source": [
    "### Fit gridsearches\n",
    "Want to see whether setting `probability=True` or `probability=False` affects gridsearch for `SVC`"
   ]
  },
  {
   "cell_type": "code",
   "execution_count": 94,
   "metadata": {},
   "outputs": [
    {
     "name": "stdout",
     "output_type": "stream",
     "text": [
      "((426L, 30L), (143L, 30L), (426L,), (143L,))\n"
     ]
    }
   ],
   "source": [
    "X, y = load_breast_cancer(return_X_y=True)\n",
    "X_train, X_test, y_train, y_test = train_test_split(X, y, random_state=np.random.RandomState(2), shuffle=True, stratify=y)\n",
    "print(X_train.shape, X_test.shape, y_train.shape, y_test.shape)"
   ]
  },
  {
   "cell_type": "markdown",
   "metadata": {},
   "source": [
    "Using `probability=True` and scoring using `roc_auc`:"
   ]
  },
  {
   "cell_type": "code",
   "execution_count": 95,
   "metadata": {},
   "outputs": [
    {
     "name": "stdout",
     "output_type": "stream",
     "text": [
      "Best params: {'C': 1, 'gamma': 0.001}\n",
      "Best score: 0.9515935269592254\n"
     ]
    }
   ],
   "source": [
    "gs_t_ra = GridSearchCV(SVC(random_state=np.random.RandomState(0), probability=True, kernel='rbf'),\n",
    "                       {'C': [1, 10], 'gamma': [0.001, 0.01]},\n",
    "                       cv=StratifiedKFold(3, random_state=np.random.RandomState(1), shuffle=True),\n",
    "                       scoring='roc_auc')\n",
    "gs_t_ra.fit(X_train, y_train)\n",
    "\n",
    "print('Best params: ' + str(gs_t_ra.best_params_))\n",
    "print('Best score: ' + str(gs_t_ra.best_score_))"
   ]
  },
  {
   "cell_type": "markdown",
   "metadata": {},
   "source": [
    "Using `probability=False` and scoring using `roc_auc`:"
   ]
  },
  {
   "cell_type": "code",
   "execution_count": 96,
   "metadata": {},
   "outputs": [
    {
     "name": "stdout",
     "output_type": "stream",
     "text": [
      "Best params: {'C': 1, 'gamma': 0.001}\n",
      "Best score: 0.9515935269592254\n"
     ]
    }
   ],
   "source": [
    "gs_f_ra = GridSearchCV(SVC(random_state=np.random.RandomState(0), probability=False, kernel='rbf'),\n",
    "                       {'C': [1, 10], 'gamma': [0.001, 0.01]},\n",
    "                       cv=StratifiedKFold(3, random_state=np.random.RandomState(1), shuffle=True),\n",
    "                       scoring='roc_auc')\n",
    "gs_f_ra.fit(X_train, y_train)\n",
    "\n",
    "print('Best params: ' + str(gs_f_ra.best_params_))\n",
    "print('Best score: ' + str(gs_f_ra.best_score_))"
   ]
  },
  {
   "cell_type": "markdown",
   "metadata": {},
   "source": [
    "Using `probability=True` and scoring using `make_scorer(roc_auc_score)`:"
   ]
  },
  {
   "cell_type": "code",
   "execution_count": 97,
   "metadata": {},
   "outputs": [
    {
     "name": "stdout",
     "output_type": "stream",
     "text": [
      "Best params: {'C': 10, 'gamma': 0.001}\n",
      "Best score: 0.9191929898947071\n"
     ]
    }
   ],
   "source": [
    "gs_t_ms = GridSearchCV(SVC(random_state=np.random.RandomState(0), probability=True, kernel='rbf'),\n",
    "                       {'C': [1, 10], 'gamma': [0.001, 0.01]},\n",
    "                       cv=StratifiedKFold(3, random_state=np.random.RandomState(1), shuffle=True),\n",
    "                       scoring=make_scorer(roc_auc_score))\n",
    "gs_t_ms.fit(X_train, y_train)\n",
    "\n",
    "print('Best params: ' + str(gs_t_ms.best_params_))\n",
    "print('Best score: ' + str(gs_t_ms.best_score_))"
   ]
  },
  {
   "cell_type": "markdown",
   "metadata": {},
   "source": [
    "Using `probability=False` and scoring using `make_scorer(roc_auc_score)`:"
   ]
  },
  {
   "cell_type": "code",
   "execution_count": 98,
   "metadata": {},
   "outputs": [
    {
     "name": "stdout",
     "output_type": "stream",
     "text": [
      "Best params: {'C': 10, 'gamma': 0.001}\n",
      "Best score: 0.9191929898947071\n"
     ]
    }
   ],
   "source": [
    "gs_f_ms = GridSearchCV(SVC(random_state=np.random.RandomState(0), probability=False, kernel='rbf'),\n",
    "                       {'C': [1, 10], 'gamma': [0.001, 0.01]},\n",
    "                       cv=StratifiedKFold(3, random_state=np.random.RandomState(1), shuffle=True),\n",
    "                       scoring=make_scorer(roc_auc_score))\n",
    "gs_f_ms.fit(X_train, y_train)\n",
    "\n",
    "print('Best params: ' + str(gs_f_ms.best_params_))\n",
    "print('Best score: ' + str(gs_f_ms.best_score_))"
   ]
  },
  {
   "cell_type": "markdown",
   "metadata": {},
   "source": [
    "### Interrogate fitted models\n",
    "Setting `probability` to `True` or `False` does not affect the score produced by the model. However, choice of `scoring` does affect the score produced. Conclude that gridsearch is optimising over "
   ]
  },
  {
   "cell_type": "code",
   "execution_count": 99,
   "metadata": {},
   "outputs": [
    {
     "name": "stdout",
     "output_type": "stream",
     "text": [
      "[1 0 0 1 0]\n",
      "[ 1.13762538 -0.7101496  -0.6853815   0.86097811 -0.9264004 ]\n",
      "[0.98396355 0.06502408 0.07077458 0.95697885 0.03130039]\n"
     ]
    }
   ],
   "source": [
    "print(gs_t_ra.predict(X_test)[0:5])\n",
    "print(gs_t_ra.decision_function(X_test)[0:5])\n",
    "try:\n",
    "    print(gs_t_ra.predict_proba(X_test)[0:5, 1])\n",
    "except AttributeError:\n",
    "    print('Cannot run predict_proba')"
   ]
  },
  {
   "cell_type": "code",
   "execution_count": 100,
   "metadata": {},
   "outputs": [
    {
     "name": "stdout",
     "output_type": "stream",
     "text": [
      "[1 0 0 1 0]\n",
      "[ 1.13762538 -0.7101496  -0.6853815   0.86097811 -0.9264004 ]\n",
      "Cannot run predict_proba\n"
     ]
    }
   ],
   "source": [
    "print(gs_f_ra.predict(X_test)[0:5])\n",
    "print(gs_f_ra.decision_function(X_test)[0:5])\n",
    "try:\n",
    "    print(gs_f_ra.predict_proba(X_test)[0:5, 1])\n",
    "except AttributeError:\n",
    "    print('Cannot run predict_proba')"
   ]
  },
  {
   "cell_type": "code",
   "execution_count": 101,
   "metadata": {},
   "outputs": [
    {
     "name": "stdout",
     "output_type": "stream",
     "text": [
      "[1 0 0 1 0]\n",
      "[ 1.10563526 -0.6906429  -0.98790694  1.0772863  -0.68790442]\n",
      "[0.9696467  0.09933435 0.04280473 0.96690312 0.10011013]\n"
     ]
    }
   ],
   "source": [
    "print(gs_t_ms.predict(X_test)[0:5])\n",
    "print(gs_t_ms.decision_function(X_test)[0:5])\n",
    "try:\n",
    "    print(gs_t_ms.predict_proba(X_test)[0:5, 1])\n",
    "except AttributeError:\n",
    "    print('Cannot run predict_proba')"
   ]
  },
  {
   "cell_type": "code",
   "execution_count": 102,
   "metadata": {},
   "outputs": [
    {
     "name": "stdout",
     "output_type": "stream",
     "text": [
      "[1 0 0 1 0]\n",
      "[ 1.10563526 -0.6906429  -0.98790694  1.0772863  -0.68790442]\n",
      "Cannot run predict_proba\n"
     ]
    }
   ],
   "source": [
    "print(gs_f_ms.predict(X_test)[0:5])\n",
    "print(gs_f_ms.decision_function(X_test)[0:5])\n",
    "try:\n",
    "    print(gs_f_ms.predict_proba(X_test)[0:5, 1])\n",
    "except AttributeError:\n",
    "    print('Cannot run predict_proba')"
   ]
  },
  {
   "cell_type": "markdown",
   "metadata": {},
   "source": [
    "### Conclusion\n",
    "The `probability` argument in `SVC` is independent of whether a correct tuning with AUROC can be performed.\n",
    "\n",
    "The `decision_function()` in `SVC` will evaluate the same regardless of `probability`"
   ]
  }
 ],
 "metadata": {
  "kernelspec": {
   "display_name": "Python 2",
   "language": "python",
   "name": "python2"
  },
  "language_info": {
   "codemirror_mode": {
    "name": "ipython",
    "version": 2
   },
   "file_extension": ".py",
   "mimetype": "text/x-python",
   "name": "python",
   "nbconvert_exporter": "python",
   "pygments_lexer": "ipython2",
   "version": "2.7.15"
  }
 },
 "nbformat": 4,
 "nbformat_minor": 2
}
